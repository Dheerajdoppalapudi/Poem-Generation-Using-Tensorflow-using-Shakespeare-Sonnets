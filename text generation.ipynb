{
 "cells": [
  {
   "cell_type": "code",
   "execution_count": 1,
   "metadata": {
    "id": "BOwsuGQQY9OL"
   },
   "outputs": [],
   "source": [
    "from tensorflow.keras.preprocessing.sequence import pad_sequences\n",
    "from tensorflow.keras.layers import Embedding, LSTM, Dense, Dropout, Bidirectional\n",
    "from tensorflow.keras.preprocessing.text import Tokenizer\n",
    "from tensorflow.keras.models import Sequential\n",
    "from tensorflow.keras.optimizers import Adam\n",
    "from tensorflow.keras import regularizers\n",
    "import tensorflow.keras.utils as ku \n",
    "import numpy as np "
   ]
  },
  {
   "cell_type": "code",
   "execution_count": 2,
   "metadata": {
    "colab": {
     "base_uri": "https://localhost:8080/"
    },
    "id": "PRnDnCW-Z7qv",
    "outputId": "671175a0-01fd-4ba0-a6df-4e128125029b"
   },
   "outputs": [
    {
     "name": "stdout",
     "output_type": "stream",
     "text": [
      "Downloading...\n",
      "From: https://drive.google.com/uc?id=108jAePKK4R3BVYBbYJZ32JWUwxeMg20K\n",
      "To: /content/sonnets.txt\n",
      "\r",
      "  0% 0.00/93.6k [00:00<?, ?B/s]\r",
      "100% 93.6k/93.6k [00:00<00:00, 23.1MB/s]\n"
     ]
    }
   ],
   "source": [
    "tokenizer = Tokenizer()\n",
    "\n",
    "# sonnets.txt\n",
    "!gdown --id 108jAePKK4R3BVYBbYJZ32JWUwxeMg20K\n",
    "\n",
    "data = open('./sonnets.txt').read()\n",
    "\n",
    "corpus = data.lower().split(\"\\n\")\n",
    "\n",
    "\n",
    "tokenizer.fit_on_texts(corpus)\n",
    "total_words = len(tokenizer.word_index) + 1\n",
    "\n",
    "# create input sequences using list of tokens\n",
    "input_sequences = []\n",
    "for line in corpus:\n",
    "\ttoken_list = tokenizer.texts_to_sequences([line])[0]\n",
    "\tfor i in range(1, len(token_list)):\n",
    "\t\tn_gram_sequence = token_list[:i+1]\n",
    "\t\tinput_sequences.append(n_gram_sequence)\n",
    "\n",
    "\n",
    "# pad sequences \n",
    "max_sequence_len = max([len(x) for x in input_sequences])\n",
    "input_sequences = np.array(pad_sequences(input_sequences, maxlen=max_sequence_len, padding='pre'))\n",
    "\n",
    "# create predictors and label\n",
    "predictors, label = input_sequences[:,:-1],input_sequences[:,-1]\n",
    "\n",
    "label = ku.to_categorical(label, num_classes=total_words)"
   ]
  },
  {
   "cell_type": "code",
   "execution_count": 3,
   "metadata": {
    "colab": {
     "base_uri": "https://localhost:8080/"
    },
    "id": "w9vH8Y59ajYL",
    "outputId": "302e0ed7-1de4-4306-bb84-3218a1307c51"
   },
   "outputs": [
    {
     "name": "stdout",
     "output_type": "stream",
     "text": [
      "Model: \"sequential\"\n",
      "_________________________________________________________________\n",
      "Layer (type)                 Output Shape              Param #   \n",
      "=================================================================\n",
      "embedding (Embedding)        (None, 10, 100)           321100    \n",
      "_________________________________________________________________\n",
      "bidirectional (Bidirectional (None, 10, 300)           301200    \n",
      "_________________________________________________________________\n",
      "dropout (Dropout)            (None, 10, 300)           0         \n",
      "_________________________________________________________________\n",
      "lstm_1 (LSTM)                (None, 100)               160400    \n",
      "_________________________________________________________________\n",
      "dense (Dense)                (None, 1605)              162105    \n",
      "_________________________________________________________________\n",
      "dense_1 (Dense)              (None, 3211)              5156866   \n",
      "=================================================================\n",
      "Total params: 6,101,671\n",
      "Trainable params: 6,101,671\n",
      "Non-trainable params: 0\n",
      "_________________________________________________________________\n",
      "None\n"
     ]
    }
   ],
   "source": [
    "model = Sequential()\n",
    "model.add(Embedding(total_words, 100, input_length=max_sequence_len-1))# Embedding Layer)\n",
    "model.add(Bidirectional(LSTM(150, return_sequences = True)))# An LSTM Layer)\n",
    "model.add(Dropout(0.2))# A dropout layer)\n",
    "model.add(LSTM(100))# Another LSTM Layer)\n",
    "model.add(Dense(total_words/2, activation='relu', kernel_regularizer=regularizers.l2(0.01)))# A Dense Layer including regularizers)\n",
    "model.add(Dense(total_words, activation='softmax'))# A Dense Layer)\n",
    "# optimizer\n",
    "model.compile(loss='categorical_crossentropy', optimizer='adam', metrics=['accuracy'])# loss function and an optimizer)\n",
    "\n",
    "print(model.summary())"
   ]
  },
  {
   "cell_type": "code",
   "execution_count": 4,
   "metadata": {
    "colab": {
     "base_uri": "https://localhost:8080/"
    },
    "id": "AIg2f1HBxqof",
    "outputId": "31687842-b4af-42f8-d5d6-ea221c8fe1a8"
   },
   "outputs": [
    {
     "name": "stdout",
     "output_type": "stream",
     "text": [
      "Epoch 1/100\n",
      "484/484 [==============================] - 22s 24ms/step - loss: 6.8939 - accuracy: 0.0241\n",
      "Epoch 2/100\n",
      "484/484 [==============================] - 12s 24ms/step - loss: 6.4997 - accuracy: 0.0230\n",
      "Epoch 3/100\n",
      "484/484 [==============================] - 12s 24ms/step - loss: 6.4112 - accuracy: 0.0217\n",
      "Epoch 4/100\n",
      "484/484 [==============================] - 12s 24ms/step - loss: 6.2928 - accuracy: 0.0292\n",
      "Epoch 5/100\n",
      "484/484 [==============================] - 11s 24ms/step - loss: 6.1902 - accuracy: 0.0369\n",
      "Epoch 6/100\n",
      "484/484 [==============================] - 12s 24ms/step - loss: 6.0979 - accuracy: 0.0395\n",
      "Epoch 7/100\n",
      "484/484 [==============================] - 12s 24ms/step - loss: 6.0185 - accuracy: 0.0398\n",
      "Epoch 8/100\n",
      "484/484 [==============================] - 12s 24ms/step - loss: 5.9292 - accuracy: 0.0455\n",
      "Epoch 9/100\n",
      "484/484 [==============================] - 11s 24ms/step - loss: 5.8292 - accuracy: 0.0504\n",
      "Epoch 10/100\n",
      "484/484 [==============================] - 11s 23ms/step - loss: 5.7264 - accuracy: 0.0595\n",
      "Epoch 11/100\n",
      "484/484 [==============================] - 11s 23ms/step - loss: 5.6244 - accuracy: 0.0664\n",
      "Epoch 12/100\n",
      "484/484 [==============================] - 11s 23ms/step - loss: 5.5207 - accuracy: 0.0711\n",
      "Epoch 13/100\n",
      "484/484 [==============================] - 11s 23ms/step - loss: 5.4143 - accuracy: 0.0766\n",
      "Epoch 14/100\n",
      "484/484 [==============================] - 11s 24ms/step - loss: 5.3126 - accuracy: 0.0838\n",
      "Epoch 15/100\n",
      "484/484 [==============================] - 11s 23ms/step - loss: 5.2076 - accuracy: 0.0905\n",
      "Epoch 16/100\n",
      "484/484 [==============================] - 11s 23ms/step - loss: 5.1124 - accuracy: 0.0944\n",
      "Epoch 17/100\n",
      "484/484 [==============================] - 11s 24ms/step - loss: 5.0042 - accuracy: 0.1048\n",
      "Epoch 18/100\n",
      "484/484 [==============================] - 11s 24ms/step - loss: 4.9086 - accuracy: 0.1096\n",
      "Epoch 19/100\n",
      "484/484 [==============================] - 11s 24ms/step - loss: 4.8082 - accuracy: 0.1232\n",
      "Epoch 20/100\n",
      "484/484 [==============================] - 11s 24ms/step - loss: 4.7071 - accuracy: 0.1325\n",
      "Epoch 21/100\n",
      "484/484 [==============================] - 11s 23ms/step - loss: 4.6139 - accuracy: 0.1392\n",
      "Epoch 22/100\n",
      "484/484 [==============================] - 11s 24ms/step - loss: 4.5094 - accuracy: 0.1524\n",
      "Epoch 23/100\n",
      "484/484 [==============================] - 11s 23ms/step - loss: 4.4097 - accuracy: 0.1636\n",
      "Epoch 24/100\n",
      "484/484 [==============================] - 11s 24ms/step - loss: 4.3115 - accuracy: 0.1726\n",
      "Epoch 25/100\n",
      "484/484 [==============================] - 11s 24ms/step - loss: 4.2188 - accuracy: 0.1861\n",
      "Epoch 26/100\n",
      "484/484 [==============================] - 11s 24ms/step - loss: 4.1129 - accuracy: 0.1981\n",
      "Epoch 27/100\n",
      "484/484 [==============================] - 11s 24ms/step - loss: 4.0272 - accuracy: 0.2137\n",
      "Epoch 28/100\n",
      "484/484 [==============================] - 11s 24ms/step - loss: 3.9248 - accuracy: 0.2287\n",
      "Epoch 29/100\n",
      "484/484 [==============================] - 11s 23ms/step - loss: 3.8283 - accuracy: 0.2400\n",
      "Epoch 30/100\n",
      "484/484 [==============================] - 11s 23ms/step - loss: 3.7388 - accuracy: 0.2592\n",
      "Epoch 31/100\n",
      "484/484 [==============================] - 11s 24ms/step - loss: 3.6337 - accuracy: 0.2766\n",
      "Epoch 32/100\n",
      "484/484 [==============================] - 11s 24ms/step - loss: 3.5501 - accuracy: 0.2916\n",
      "Epoch 33/100\n",
      "484/484 [==============================] - 11s 24ms/step - loss: 3.4668 - accuracy: 0.3106\n",
      "Epoch 34/100\n",
      "484/484 [==============================] - 11s 24ms/step - loss: 3.3847 - accuracy: 0.3291\n",
      "Epoch 35/100\n",
      "484/484 [==============================] - 11s 23ms/step - loss: 3.2999 - accuracy: 0.3479\n",
      "Epoch 36/100\n",
      "484/484 [==============================] - 11s 24ms/step - loss: 3.2170 - accuracy: 0.3679\n",
      "Epoch 37/100\n",
      "484/484 [==============================] - 11s 24ms/step - loss: 3.1472 - accuracy: 0.3806\n",
      "Epoch 38/100\n",
      "484/484 [==============================] - 11s 24ms/step - loss: 3.0614 - accuracy: 0.4013\n",
      "Epoch 39/100\n",
      "484/484 [==============================] - 11s 24ms/step - loss: 2.9903 - accuracy: 0.4173\n",
      "Epoch 40/100\n",
      "484/484 [==============================] - 11s 23ms/step - loss: 2.9224 - accuracy: 0.4355\n",
      "Epoch 41/100\n",
      "484/484 [==============================] - 11s 24ms/step - loss: 2.8504 - accuracy: 0.4526\n",
      "Epoch 42/100\n",
      "484/484 [==============================] - 11s 24ms/step - loss: 2.7932 - accuracy: 0.4638\n",
      "Epoch 43/100\n",
      "484/484 [==============================] - 11s 24ms/step - loss: 2.7303 - accuracy: 0.4779\n",
      "Epoch 44/100\n",
      "484/484 [==============================] - 11s 23ms/step - loss: 2.6560 - accuracy: 0.4938\n",
      "Epoch 45/100\n",
      "484/484 [==============================] - 11s 24ms/step - loss: 2.6010 - accuracy: 0.5108\n",
      "Epoch 46/100\n",
      "484/484 [==============================] - 11s 24ms/step - loss: 2.5377 - accuracy: 0.5178\n",
      "Epoch 47/100\n",
      "484/484 [==============================] - 11s 23ms/step - loss: 2.4830 - accuracy: 0.5341\n",
      "Epoch 48/100\n",
      "484/484 [==============================] - 11s 23ms/step - loss: 2.4437 - accuracy: 0.5427\n",
      "Epoch 49/100\n",
      "484/484 [==============================] - 11s 23ms/step - loss: 2.3818 - accuracy: 0.5559\n",
      "Epoch 50/100\n",
      "484/484 [==============================] - 11s 23ms/step - loss: 2.3377 - accuracy: 0.5639\n",
      "Epoch 51/100\n",
      "484/484 [==============================] - 11s 23ms/step - loss: 2.2922 - accuracy: 0.5713\n",
      "Epoch 52/100\n",
      "484/484 [==============================] - 11s 23ms/step - loss: 2.2492 - accuracy: 0.5872\n",
      "Epoch 53/100\n",
      "484/484 [==============================] - 11s 23ms/step - loss: 2.2024 - accuracy: 0.5959\n",
      "Epoch 54/100\n",
      "484/484 [==============================] - 11s 23ms/step - loss: 2.1533 - accuracy: 0.6048\n",
      "Epoch 55/100\n",
      "484/484 [==============================] - 11s 23ms/step - loss: 2.1157 - accuracy: 0.6188\n",
      "Epoch 56/100\n",
      "484/484 [==============================] - 11s 23ms/step - loss: 2.0726 - accuracy: 0.6211\n",
      "Epoch 57/100\n",
      "484/484 [==============================] - 11s 23ms/step - loss: 2.0413 - accuracy: 0.6328\n",
      "Epoch 58/100\n",
      "484/484 [==============================] - 11s 23ms/step - loss: 2.0017 - accuracy: 0.6366\n",
      "Epoch 59/100\n",
      "484/484 [==============================] - 11s 23ms/step - loss: 1.9766 - accuracy: 0.6463\n",
      "Epoch 60/100\n",
      "484/484 [==============================] - 11s 23ms/step - loss: 1.9375 - accuracy: 0.6552\n",
      "Epoch 61/100\n",
      "484/484 [==============================] - 11s 23ms/step - loss: 1.8964 - accuracy: 0.6605\n",
      "Epoch 62/100\n",
      "484/484 [==============================] - 11s 23ms/step - loss: 1.8612 - accuracy: 0.6716\n",
      "Epoch 63/100\n",
      "484/484 [==============================] - 11s 23ms/step - loss: 1.8403 - accuracy: 0.6716\n",
      "Epoch 64/100\n",
      "484/484 [==============================] - 11s 23ms/step - loss: 1.8192 - accuracy: 0.6759\n",
      "Epoch 65/100\n",
      "484/484 [==============================] - 11s 23ms/step - loss: 1.7720 - accuracy: 0.6903\n",
      "Epoch 66/100\n",
      "484/484 [==============================] - 11s 23ms/step - loss: 1.7478 - accuracy: 0.6885\n",
      "Epoch 67/100\n",
      "484/484 [==============================] - 11s 23ms/step - loss: 1.7157 - accuracy: 0.7022\n",
      "Epoch 68/100\n",
      "484/484 [==============================] - 11s 23ms/step - loss: 1.6875 - accuracy: 0.7022\n",
      "Epoch 69/100\n",
      "484/484 [==============================] - 11s 23ms/step - loss: 1.6800 - accuracy: 0.7074\n",
      "Epoch 70/100\n",
      "484/484 [==============================] - 11s 23ms/step - loss: 1.6475 - accuracy: 0.7121\n",
      "Epoch 71/100\n",
      "484/484 [==============================] - 11s 23ms/step - loss: 1.6157 - accuracy: 0.7220\n",
      "Epoch 72/100\n",
      "484/484 [==============================] - 11s 23ms/step - loss: 1.6146 - accuracy: 0.7175\n",
      "Epoch 73/100\n",
      "484/484 [==============================] - 11s 23ms/step - loss: 1.5758 - accuracy: 0.7251\n",
      "Epoch 74/100\n",
      "484/484 [==============================] - 11s 23ms/step - loss: 1.5567 - accuracy: 0.7314\n",
      "Epoch 75/100\n",
      "484/484 [==============================] - 11s 23ms/step - loss: 1.5388 - accuracy: 0.7337\n",
      "Epoch 76/100\n",
      "484/484 [==============================] - 11s 23ms/step - loss: 1.5144 - accuracy: 0.7405\n",
      "Epoch 77/100\n",
      "484/484 [==============================] - 11s 23ms/step - loss: 1.5121 - accuracy: 0.7351\n",
      "Epoch 78/100\n",
      "484/484 [==============================] - 11s 23ms/step - loss: 1.4807 - accuracy: 0.7430\n",
      "Epoch 79/100\n",
      "484/484 [==============================] - 11s 23ms/step - loss: 1.4660 - accuracy: 0.7491\n",
      "Epoch 80/100\n",
      "484/484 [==============================] - 11s 23ms/step - loss: 1.4525 - accuracy: 0.7514\n",
      "Epoch 81/100\n",
      "484/484 [==============================] - 11s 23ms/step - loss: 1.4210 - accuracy: 0.7559\n",
      "Epoch 82/100\n",
      "484/484 [==============================] - 11s 23ms/step - loss: 1.3975 - accuracy: 0.7620\n",
      "Epoch 83/100\n",
      "484/484 [==============================] - 11s 23ms/step - loss: 1.3874 - accuracy: 0.7670\n",
      "Epoch 84/100\n",
      "484/484 [==============================] - 11s 23ms/step - loss: 1.3650 - accuracy: 0.7684\n",
      "Epoch 85/100\n",
      "484/484 [==============================] - 11s 23ms/step - loss: 1.3743 - accuracy: 0.7638\n",
      "Epoch 86/100\n",
      "484/484 [==============================] - 11s 23ms/step - loss: 1.3506 - accuracy: 0.7665\n",
      "Epoch 87/100\n",
      "484/484 [==============================] - 11s 23ms/step - loss: 1.3385 - accuracy: 0.7699\n",
      "Epoch 88/100\n",
      "484/484 [==============================] - 11s 23ms/step - loss: 1.3247 - accuracy: 0.7725\n",
      "Epoch 89/100\n",
      "484/484 [==============================] - 11s 23ms/step - loss: 1.2929 - accuracy: 0.7782\n",
      "Epoch 90/100\n",
      "484/484 [==============================] - 11s 23ms/step - loss: 1.2822 - accuracy: 0.7844\n",
      "Epoch 91/100\n",
      "484/484 [==============================] - 11s 23ms/step - loss: 1.2719 - accuracy: 0.7817\n",
      "Epoch 92/100\n",
      "484/484 [==============================] - 11s 23ms/step - loss: 1.2535 - accuracy: 0.7875\n",
      "Epoch 93/100\n",
      "484/484 [==============================] - 11s 23ms/step - loss: 1.2566 - accuracy: 0.7846\n",
      "Epoch 94/100\n",
      "484/484 [==============================] - 11s 23ms/step - loss: 1.2453 - accuracy: 0.7870\n",
      "Epoch 95/100\n",
      "484/484 [==============================] - 11s 23ms/step - loss: 1.2323 - accuracy: 0.7889\n",
      "Epoch 96/100\n",
      "484/484 [==============================] - 11s 23ms/step - loss: 1.2129 - accuracy: 0.7913\n",
      "Epoch 97/100\n",
      "484/484 [==============================] - 11s 23ms/step - loss: 1.2092 - accuracy: 0.7938\n",
      "Epoch 98/100\n",
      "484/484 [==============================] - 11s 23ms/step - loss: 1.1992 - accuracy: 0.7903\n",
      "Epoch 99/100\n",
      "484/484 [==============================] - 11s 24ms/step - loss: 1.1956 - accuracy: 0.7927\n",
      "Epoch 100/100\n",
      "484/484 [==============================] - 11s 23ms/step - loss: 1.1780 - accuracy: 0.7965\n"
     ]
    }
   ],
   "source": [
    " history = model.fit(predictors, label, epochs=100, verbose=1)"
   ]
  },
  {
   "cell_type": "code",
   "execution_count": 5,
   "metadata": {
    "colab": {
     "base_uri": "https://localhost:8080/",
     "height": 545
    },
    "id": "1fXTEO3GJ282",
    "outputId": "58e510e1-94e1-4a2d-df46-c27426f872e4"
   },
   "outputs": [
    {
     "data": {
      "image/png": "[encoded data removed]",
      "text/plain": [
       "<Figure size 432x288 with 1 Axes>"
      ]
     },
     "metadata": {
      "needs_background": "light"
     },
     "output_type": "display_data"
    },
    {
     "data": {
      "image/png": "[encoded data removed]",
      "text/plain": [
       "<Figure size 432x288 with 1 Axes>"
      ]
     },
     "metadata": {
      "needs_background": "light"
     },
     "output_type": "display_data"
    }
   ],
   "source": [
    "import matplotlib.pyplot as plt\n",
    "acc = history.history['accuracy']\n",
    "loss = history.history['loss']\n",
    "\n",
    "epochs = range(len(acc))\n",
    "\n",
    "plt.plot(epochs, acc, 'b', label='Training accuracy')\n",
    "plt.title('Training accuracy')\n",
    "\n",
    "plt.figure()\n",
    "\n",
    "plt.plot(epochs, loss, 'b', label='Training Loss')\n",
    "plt.title('Training loss')\n",
    "plt.legend()\n",
    "\n",
    "plt.show()"
   ]
  },
  {
   "cell_type": "code",
   "execution_count": 10,
   "metadata": {
    "colab": {
     "base_uri": "https://localhost:8080/"
    },
    "id": "6Vc6PHgxa6Hm",
    "outputId": "fee5f845-885b-41f0-96e8-644eabbdb1ea"
   },
   "outputs": [
    {
     "name": "stdout",
     "output_type": "stream",
     "text": [
      "Help me Obi Wan Kenobi, you're my only hope some where their rhyme state inhearse another hide his hand twain day must ride go of days dyed taken prove thee young days confounds wanting view heart fears to say done you die true youth be true lie me in me sun ' lies do dwell chide loss must lie with his power with loss and glance one past woe hour express'd despise express'd seen stand mad suppress'd war's sit brow ' must be ride go at me dear mind true wrong right bettering light days clears shown hence erred weeks fight taken depend twain twain express'd translate tend can\n"
     ]
    }
   ],
   "source": [
    "seed_text = \"Help me Obi Wan Kenobi, you're my only hope\"\n",
    "next_words = 100\n",
    "  \n",
    "for _ in range(next_words):\n",
    "    token_list = tokenizer.texts_to_sequences([seed_text])[0]\n",
    "    token_list = pad_sequences([token_list], maxlen=max_sequence_len-1, padding='pre')\n",
    "    predicted = model.predict(token_list, verbose=0)\n",
    "    predicted = np.argmax(predicted,axis=1)\n",
    "    output_word = \"\"\n",
    "    for word, index in tokenizer.word_index.items():\n",
    "      if index == predicted:\n",
    "        output_word = word\n",
    "        break\n",
    "    seed_text += \" \" + output_word\n",
    "print(seed_text)"
   ]
  },
  {
   "cell_type": "code",
   "execution_count": null,
   "metadata": {
    "id": "jowWoupZv__z"
   },
   "outputs": [],
   "source": []
  }
 ],
 "metadata": {
  "accelerator": "GPU",
  "colab": {
   "collapsed_sections": [],
   "name": "C3_W4_Assignment_Solution.ipynb",
   "provenance": [],
   "toc_visible": true
  },
  "kernelspec": {
   "display_name": "Python 3",
   "language": "python",
   "name": "python3"
  },
  "language_info": {
   "codemirror_mode": {
    "name": "ipython",
    "version": 3
   },
   "file_extension": ".py",
   "mimetype": "text/x-python",
   "name": "python",
   "nbconvert_exporter": "python",
   "pygments_lexer": "ipython3",
   "version": "3.8.3"
  }
 },
 "nbformat": 4,
 "nbformat_minor": 1
}
